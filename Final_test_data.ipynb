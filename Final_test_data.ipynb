{
 "cells": [
  {
   "cell_type": "markdown",
   "metadata": {},
   "source": [
    "# Onthefuze data test"
   ]
  },
  {
   "cell_type": "code",
   "execution_count": 1,
   "metadata": {},
   "outputs": [],
   "source": [
    "import library\n",
    "import requests\n",
    "import pandas as pd\n",
    "import re\n",
    "import numpy as np\n",
    "from geopy.geocoders import Nominatim\n",
    "import pycountry\n",
    "import phonenumbers\n",
    "import matplotlib.pyplot as plt"
   ]
  },
  {
   "cell_type": "markdown",
   "metadata": {},
   "source": [
    "## contact_collection\n",
    "The contact_collection function is used to extract contact information from the API key provided in the data test. Conditional statements are added to facilitate the extraction of this information. This code is designed for reusability in other data frames, as the inputs will be the API key, the endpoint URL, and a dictionary specifying the structure where we assign the properties we want to extract from the HubSpot account."
   ]
  },
  {
   "cell_type": "code",
   "execution_count": 2,
   "metadata": {},
   "outputs": [],
   "source": [
    "def contact_collection(api_key, url, request_data):\n",
    "    \"\"\"\n",
    "    Collects contact data from a paginated API endpoint.\n",
    "\n",
    "    Args:\n",
    "    - api_key (str): The API key for authentication.\n",
    "    - url (str): The URL of the API endpoint.\n",
    "    - request_data (dict): The data to be included in the API request.\n",
    "\n",
    "    Returns:\n",
    "    - pd.DataFrame: A pandas DataFrame containing the collected contact data.\n",
    "    \"\"\"\n",
    "    \n",
    "    # Set up headers for the API request\n",
    "    headers = {\n",
    "        'accept': \"application/json\",\n",
    "        'content-type': \"application/json\",\n",
    "        'authorization': \"Bearer {}\".format(api_key)\n",
    "    }\n",
    "\n",
    "    # Initialize the 'after' value\n",
    "    after_value = 0\n",
    "    \n",
    "    # List to store DataFrames\n",
    "    data_frames_list = []\n",
    "\n",
    "    # Infinite loop to fetch paginated data\n",
    "    while True:\n",
    "        # Update the 'after' value in the request data\n",
    "        request_data[\"after\"] = str(after_value)\n",
    "\n",
    "        # Make a POST request to the API\n",
    "        response = requests.post(url, headers=headers, json=request_data)\n",
    "        json_response = response.json()\n",
    "\n",
    "        # Extract 'results' from the JSON response\n",
    "        results = json_response['results']\n",
    "\n",
    "        # Convert results to a DataFrame\n",
    "        data_frame = pd.json_normalize(results)\n",
    "\n",
    "        # Add the DataFrame to the list\n",
    "        data_frames_list.append(data_frame)\n",
    "\n",
    "        # Check if there are more pages in the response\n",
    "        if 'paging' in json_response:\n",
    "            paging = json_response['paging']\n",
    "            next_page = paging.get('next')\n",
    "\n",
    "            # Update 'after' for the next page if available\n",
    "            if next_page:\n",
    "                after_value = next_page.get('after')\n",
    "                print(\"Value of 'after' for the next page:\", after_value)\n",
    "            else:\n",
    "                print(\"No more results available.\")\n",
    "                break\n",
    "        else:\n",
    "            print(\"The 'paging' property was not found in the response.\")\n",
    "            break\n",
    "\n",
    "    # Concatenate all DataFrames into a final DataFrame\n",
    "    final_data_frame = pd.concat(data_frames_list, ignore_index=True)\n",
    "    \n",
    "    return final_data_frame"
   ]
  },
  {
   "cell_type": "code",
   "execution_count": 2,
   "metadata": {},
   "outputs": [],
   "source": [
    "api_key = \"pat-na1-3c7b0af9-bb66-40e7-a256-ce4c5eb27e81\"\n",
    "url = 'https://api.hubapi.com/crm/v3/objects/contacts/search'\n",
    "\n",
    "data = {\n",
    "    \"filterGroups\": [\n",
    "        {\n",
    "            \"filters\": [\n",
    "                {\n",
    "                    \"propertyName\": \"allowed_to_collect\",\n",
    "                    \"operator\": \"EQ\",\n",
    "                    \"value\": \"true\"\n",
    "                }\n",
    "            ]\n",
    "        }\n",
    "    ],\n",
    "    \"properties\": [\n",
    "        \"firstname\",\n",
    "        \"lastname\",\n",
    "        \"raw_email\",\n",
    "        \"country\",\n",
    "        \"phone\",\n",
    "        \"technical_test___create_date\",\n",
    "        \"industry\",\n",
    "        \"address\",\n",
    "        \"hs_object_id\"\n",
    "    ],\n",
    "    \"limit\": 100\n",
    "}"
   ]
  },
  {
   "cell_type": "code",
   "execution_count": null,
   "metadata": {},
   "outputs": [],
   "source": [
    "df = contact_collection(api_key, url, data)"
   ]
  },
  {
   "cell_type": "markdown",
   "metadata": {},
   "source": [
    "We make a copy of the extracted dataframe for the purpose of working with it without altering the original and having to extract the information again."
   ]
  },
  {
   "cell_type": "code",
   "execution_count": 4,
   "metadata": {},
   "outputs": [],
   "source": [
    "df_copy=df.copy()"
   ]
  },
  {
   "cell_type": "markdown",
   "metadata": {},
   "source": [
    "## found_email\n",
    "\n",
    "The found_email function will be used to extract emails from a text. This is achieved by utilizing a regular expression that enables the search for a character sequence with an email-like structure."
   ]
  },
  {
   "cell_type": "code",
   "execution_count": 5,
   "metadata": {},
   "outputs": [],
   "source": [
    "def found_email(email):\n",
    "    \"\"\"\n",
    "    Finds and extracts email addresses from the given email.\n",
    "\n",
    "    Args:\n",
    "    - email (str): The input email to search for email addresses.\n",
    "\n",
    "    Returns:\n",
    "    - str or np.nan: The found email address or np.nan if none is found.\n",
    "    \"\"\"\n",
    "    # Check if the input email is null\n",
    "    if pd.isnull(email):\n",
    "        return np.nan\n",
    "    \n",
    "    # Define the email pattern using a regular expression\n",
    "    email_pattern = r'\\b[A-Za-z0-9._%+-]+@[A-Za-z0-9.-]+\\.[A-Za-z]{2,}\\b'\n",
    "    \n",
    "    # Search for the email pattern in the email\n",
    "    match = re.search(email_pattern, email)\n",
    "    \n",
    "    # Check if a match is found\n",
    "    if match:\n",
    "        return match.group()  # Return the found email address\n",
    "    else:\n",
    "        return np.nan  # Return np.nan if no email address is found\n"
   ]
  },
  {
   "cell_type": "code",
   "execution_count": 6,
   "metadata": {},
   "outputs": [],
   "source": [
    "df_copy['fix_email']=df_copy['properties.raw_email'].apply(found_email)"
   ]
  },
  {
   "cell_type": "markdown",
   "metadata": {},
   "source": [
    "## country_recognition\n",
    "The country_recognition function was designed to optimize the usage of the Geopy library. This optimization is necessary because applying the Geopy library directly to a dataframe can be time-consuming. The approach involves extracting unique country values, storing them in a temporary dataframe, and then applying the Geopy library only to those unique values. Subsequently, a function is used to replace those values in our main dataframe. This approach allows us to obtain information about countries other than Ireland and England.\n",
    "\n",
    "Notes: \n",
    "The Geopy library recognizes the record for England as the United Kingdom. Therefore, the adjustment of this data is done at the end of the test, as the value \"United Kingdom\" will be used in our fix_phone_numbers function."
   ]
  },
  {
   "cell_type": "code",
   "execution_count": 7,
   "metadata": {},
   "outputs": [],
   "source": [
    "\n",
    "def country_recognition(dataframe, column_name):\n",
    "    \"\"\"\n",
    "    Recognizes countries based on city names in a DataFrame.\n",
    "\n",
    "    Args:\n",
    "    - dataframe (pd.DataFrame): The input DataFrame containing city names.\n",
    "    - column_name (str): The name of the column containing city names.\n",
    "\n",
    "    Returns:\n",
    "    - pd.DataFrame: A DataFrame with unique city values and their recognized countries.\n",
    "    \"\"\"\n",
    "    # Get unique values and filter out NaN\n",
    "    unique_values = dataframe[column_name].unique()\n",
    "    unique_values = [value for value in unique_values if pd.notna(value)]\n",
    "\n",
    "    # Create a DataFrame with unique values\n",
    "    df_unique_values = pd.DataFrame({'unique_values': unique_values})\n",
    "\n",
    "    # Get the country for each city using geocoding\n",
    "    geolocator = Nominatim(user_agent=\"my_geocoder\")\n",
    "    df_unique_values['country'] = df_unique_values['unique_values'].apply(\n",
    "        lambda city: (lambda loc: loc.address.split(\",\")[-1].strip() if loc else None)(geolocator.geocode(str(city)))\n",
    "    )\n",
    "\n",
    "    # Replace specific values in the 'country' column\n",
    "    df_unique_values['country'] = df_unique_values['country'].replace(\n",
    "        {'Éire / Ireland': 'Ireland'}\n",
    "    )\n",
    "\n",
    "    # Create the 'city' column based on a condition\n",
    "    df_unique_values['city'] = np.where(\n",
    "        df_unique_values['country'] == df_unique_values['unique_values'],\n",
    "        \"\",\n",
    "        df_unique_values['unique_values']\n",
    "    )\n",
    "\n",
    "    # Set 'city' to an empty string where 'country' is 'England'\n",
    "    df_unique_values.loc[df_unique_values['city'] == 'England', 'city'] = \"\"\n",
    "\n",
    "    # Update the original DataFrame with recognized countries and cities\n",
    "    dataframe['country'] = dataframe[column_name].replace(\n",
    "        dict(zip(df_unique_values['unique_values'], df_unique_values['country']))\n",
    "    )\n",
    "    dataframe['city'] = dataframe[column_name].replace(\n",
    "        dict(zip(df_unique_values['unique_values'], df_unique_values['city']))\n",
    "    )\n",
    "\n",
    "    # Create the 'country_tuple' column\n",
    "    #dataframe['country_tuple'] = dataframe.apply(\n",
    "        #lambda x: tuple([x[\"country\"], x[\"city\"]]) if pd.notna(x[\"country\"]) else np.nan,\n",
    "        #axis=1\n",
    "    #)\n",
    "\n",
    "    dataframe['country_tuple'] = dataframe.apply(\n",
    "    lambda x: tuple(['England' if x[\"country\"] == 'United Kingdom' else x[\"country\"], x[\"city\"]]) if pd.notna(x[\"country\"]) else np.nan,\n",
    "    axis=1\n",
    ")\n",
    "\n",
    "    return df_unique_values\n",
    "\n"
   ]
  },
  {
   "cell_type": "code",
   "execution_count": 8,
   "metadata": {},
   "outputs": [
    {
     "data": {
      "text/html": [
       "<div>\n",
       "<style scoped>\n",
       "    .dataframe tbody tr th:only-of-type {\n",
       "        vertical-align: middle;\n",
       "    }\n",
       "\n",
       "    .dataframe tbody tr th {\n",
       "        vertical-align: top;\n",
       "    }\n",
       "\n",
       "    .dataframe thead th {\n",
       "        text-align: right;\n",
       "    }\n",
       "</style>\n",
       "<table border=\"1\" class=\"dataframe\">\n",
       "  <thead>\n",
       "    <tr style=\"text-align: right;\">\n",
       "      <th></th>\n",
       "      <th>unique_values</th>\n",
       "      <th>country</th>\n",
       "      <th>city</th>\n",
       "    </tr>\n",
       "  </thead>\n",
       "  <tbody>\n",
       "    <tr>\n",
       "      <th>0</th>\n",
       "      <td>Waterford</td>\n",
       "      <td>Ireland</td>\n",
       "      <td>Waterford</td>\n",
       "    </tr>\n",
       "    <tr>\n",
       "      <th>1</th>\n",
       "      <td>Ireland</td>\n",
       "      <td>Ireland</td>\n",
       "      <td></td>\n",
       "    </tr>\n",
       "    <tr>\n",
       "      <th>2</th>\n",
       "      <td>Dublin</td>\n",
       "      <td>Ireland</td>\n",
       "      <td>Dublin</td>\n",
       "    </tr>\n",
       "    <tr>\n",
       "      <th>3</th>\n",
       "      <td>London</td>\n",
       "      <td>United Kingdom</td>\n",
       "      <td>London</td>\n",
       "    </tr>\n",
       "    <tr>\n",
       "      <th>4</th>\n",
       "      <td>Limerick</td>\n",
       "      <td>Ireland</td>\n",
       "      <td>Limerick</td>\n",
       "    </tr>\n",
       "    <tr>\n",
       "      <th>5</th>\n",
       "      <td>Winchester</td>\n",
       "      <td>United Kingdom</td>\n",
       "      <td>Winchester</td>\n",
       "    </tr>\n",
       "    <tr>\n",
       "      <th>6</th>\n",
       "      <td>Milton Keynes</td>\n",
       "      <td>United Kingdom</td>\n",
       "      <td>Milton Keynes</td>\n",
       "    </tr>\n",
       "    <tr>\n",
       "      <th>7</th>\n",
       "      <td>Oxford</td>\n",
       "      <td>United Kingdom</td>\n",
       "      <td>Oxford</td>\n",
       "    </tr>\n",
       "    <tr>\n",
       "      <th>8</th>\n",
       "      <td>Cork</td>\n",
       "      <td>Ireland</td>\n",
       "      <td>Cork</td>\n",
       "    </tr>\n",
       "    <tr>\n",
       "      <th>9</th>\n",
       "      <td>Plymouth</td>\n",
       "      <td>United Kingdom</td>\n",
       "      <td>Plymouth</td>\n",
       "    </tr>\n",
       "    <tr>\n",
       "      <th>10</th>\n",
       "      <td>England</td>\n",
       "      <td>United Kingdom</td>\n",
       "      <td></td>\n",
       "    </tr>\n",
       "  </tbody>\n",
       "</table>\n",
       "</div>"
      ],
      "text/plain": [
       "    unique_values         country           city\n",
       "0       Waterford         Ireland      Waterford\n",
       "1         Ireland         Ireland               \n",
       "2          Dublin         Ireland         Dublin\n",
       "3          London  United Kingdom         London\n",
       "4        Limerick         Ireland       Limerick\n",
       "5      Winchester  United Kingdom     Winchester\n",
       "6   Milton Keynes  United Kingdom  Milton Keynes\n",
       "7          Oxford  United Kingdom         Oxford\n",
       "8            Cork         Ireland           Cork\n",
       "9        Plymouth  United Kingdom       Plymouth\n",
       "10        England  United Kingdom               "
      ]
     },
     "execution_count": 8,
     "metadata": {},
     "output_type": "execute_result"
    }
   ],
   "source": [
    "country_recognition(df_copy,\"properties.country\")"
   ]
  },
  {
   "cell_type": "markdown",
   "metadata": {},
   "source": [
    "## fix_phone_numbers\n",
    "\n",
    "The fix_phone_numbers function uses two libraries to find the country code. These libraries are pycountry, which helps us extract the simplified country name (e.g., \"Colombia = CO\"), and the phonenumbers library. The latter takes the simplified country name as input and returns the country code as the result.\n",
    "\n",
    "Note: The pycountry library recognizes the value for the United Kingdom, which is why that value is temporarily used in the dataframe."
   ]
  },
  {
   "cell_type": "code",
   "execution_count": 9,
   "metadata": {},
   "outputs": [],
   "source": [
    "def fix_phone_numbers(phone, country_name):\n",
    "    \"\"\"\n",
    "    Fixes phone numbers by adding country codes and formatting.\n",
    "\n",
    "    Args:\n",
    "    - phone (str): The phone number to be fixed.\n",
    "    - country_name (str): The name of the country associated with the phone number.\n",
    "\n",
    "    Returns:\n",
    "    - str or np.nan: The formatted phone number or np.nan if input is invalid.\n",
    "    \"\"\"\n",
    "    # Check if input values are valid\n",
    "    if phone is None or country_name is None or phone == \"\":\n",
    "        return np.nan\n",
    "    \n",
    "    try:\n",
    "        # Get the country code based on the country name using pycountry\n",
    "        country = pycountry.countries.get(name=country_name)\n",
    "        \n",
    "        if country:\n",
    "            # Get the alpha-2 country code and phone code for the region\n",
    "            country_code = country.alpha_2\n",
    "            phone_code = phonenumbers.country_code_for_region(country_code)\n",
    "        else:\n",
    "            return np.nan\n",
    "    except LookupError:\n",
    "        return np.nan\n",
    "\n",
    "    # Remove non-digit characters and leading '0', then format the number\n",
    "    digits = re.sub(r'\\D', '', str(phone)).lstrip('0')\n",
    "    formatted_number = f'(+{phone_code}) {digits[:4]} {digits[4:]}'\n",
    "\n",
    "    return formatted_number"
   ]
  },
  {
   "cell_type": "code",
   "execution_count": 10,
   "metadata": {},
   "outputs": [],
   "source": [
    "df_copy['fix_phone'] = df_copy.apply(lambda row: fix_phone_numbers(row['properties.phone'], row['country']), axis=1)"
   ]
  },
  {
   "cell_type": "markdown",
   "metadata": {},
   "source": [
    "## duplicate_management\n",
    "\n",
    "For the duplicate_management function, we use the groupby function from pandas to perform a merge between duplicate records. In this function, the merge is performed twice. Initially, it is used to identify duplicates based on emails. Subsequently, we perform another identification using both the full name and the phone number.\n",
    "\n",
    "Notes:\n",
    "It is essential to note that the identification of duplicates based on first name and last name is only performed when they share the same email. This is because in the dataframe, instances were observed where records had the same name but different emails. Therefore, priority is given to the email as a mandatory property in HubSpot.\n",
    "\n",
    "Example:\n",
    "\n",
    "Full name     Email\n",
    "\n",
    "Zara Rodwell  zara_rodwell1398442854@nickia.com\n",
    "\n",
    "Zara Rodwell  zara_rodwell1270511699@zorer.org\n",
    "\n",
    "The code identifies these records as different, respecting the email as the contact identifier.\n",
    "\n",
    "\n"
   ]
  },
  {
   "cell_type": "code",
   "execution_count": 11,
   "metadata": {},
   "outputs": [],
   "source": [
    "\n",
    "def duplicate_management(input_dataframe):\n",
    "    \"\"\"\n",
    "    Process the input DataFrame by combining and aggregating data.\n",
    "\n",
    "    Args:\n",
    "    - input_dataframe (pd.DataFrame): The input DataFrame to be processed.\n",
    "\n",
    "    Returns:\n",
    "    - pd.DataFrame: The processed DataFrame.\n",
    "    \"\"\"\n",
    "\n",
    "    # Create a copy of the input DataFrame\n",
    "    df_copy = input_dataframe.copy()\n",
    "\n",
    "    # Create a 'Full name' column by concatenating 'firstname' and 'lastname'\n",
    "    df_copy['Full name'] = df_copy['properties.firstname'] + ' ' + df_copy['properties.lastname']\n",
    "\n",
    "    # Filter rows where 'fix_email' is NaN\n",
    "    df_filtrado = df_copy[df_copy['fix_email'].isna()]\n",
    "\n",
    "    # Sort the DataFrame by 'fix_email' and 'technical_test___create_date'\n",
    "    df_copy.sort_values([\"fix_email\", \"properties.technical_test___create_date\"], ascending=[True, False], inplace=True)\n",
    "\n",
    "    # Group by 'fix_email' and aggregate data\n",
    "    processed_data1 = df_copy.groupby('fix_email').agg({\n",
    "        'id': 'first',\n",
    "        'createdAt': 'first',\n",
    "        'updatedAt': 'first',\n",
    "        'archived': 'first',\n",
    "        'properties.address': 'first',\n",
    "        'properties.country': 'first',\n",
    "        'properties.createdate': 'first',\n",
    "        'properties.firstname': 'first',\n",
    "        'properties.lastname': 'first',\n",
    "        'properties.hs_object_id': 'first',\n",
    "        'properties.lastmodifieddate': 'first',\n",
    "        'properties.phone': 'first',\n",
    "        'properties.raw_email': 'first',\n",
    "        'fix_phone': 'first',\n",
    "        'country': 'first',\n",
    "        'city': 'first',\n",
    "        'country_tuple': 'first',\n",
    "        'Full name': 'first',\n",
    "        'properties.industry': lambda x: ';'.join(x.dropna().astype(str).unique()),\n",
    "        'properties.technical_test___create_date': 'first'\n",
    "    }).reset_index()\n",
    "\n",
    "    # Concatenate the aggregated result with the filtered DataFrame\n",
    "    df_concatenated = pd.concat([processed_data1, df_filtrado], ignore_index=True)\n",
    "\n",
    "    # Sort the concatenated DataFrame by 'Full name' and 'technical_test___create_date'\n",
    "    df_concatenated.sort_values([\"Full name\", \"properties.technical_test___create_date\"], ascending=[True, False], inplace=True)\n",
    "\n",
    "    # Group by 'Full name' and 'fix_phone', and aggregate data\n",
    "    processed_data2 = df_concatenated.groupby(['Full name', 'fix_phone']).agg({\n",
    "        'id': 'first',\n",
    "        'createdAt': 'first',\n",
    "        'updatedAt': 'first',\n",
    "        'archived': 'first',\n",
    "        'properties.address': 'first',\n",
    "        'properties.country': 'first',\n",
    "        'properties.createdate': 'first',\n",
    "        'properties.firstname': 'first',\n",
    "        'properties.lastname': 'first',\n",
    "        'properties.hs_object_id': 'first',\n",
    "        'properties.lastmodifieddate': 'first',\n",
    "        'properties.phone': 'first',\n",
    "        'properties.raw_email': 'first',\n",
    "        'country': 'first',\n",
    "        'city': 'first',\n",
    "        'country_tuple': 'first',\n",
    "        'fix_email': 'first',\n",
    "        'properties.industry': lambda x: ';'.join(x.dropna().astype(str).unique()),\n",
    "        'properties.technical_test___create_date': 'first'\n",
    "    }).reset_index()\n",
    "\n",
    "    # Clean up the 'properties.industry' column by removing duplicates and sorting\n",
    "    processed_data2['properties.industry'] = processed_data2['properties.industry'].apply(lambda x: ';'.join(sorted(set(x.split(';')), key=x.split(';').index)))\n",
    "\n",
    "    return processed_data2\n"
   ]
  },
  {
   "cell_type": "code",
   "execution_count": 12,
   "metadata": {},
   "outputs": [],
   "source": [
    "df_final=duplicate_management(df_copy)"
   ]
  },
  {
   "cell_type": "code",
   "execution_count": 20,
   "metadata": {},
   "outputs": [],
   "source": [
    "df_final.to_csv('df_final.csv', index=False)"
   ]
  },
  {
   "cell_type": "markdown",
   "metadata": {},
   "source": [
    "## saving_contacts\n",
    "The saving_contacts function is used to upload the records to the HubSpot platform, as specified in the HubSpot API documentation."
   ]
  },
  {
   "cell_type": "code",
   "execution_count": 13,
   "metadata": {},
   "outputs": [],
   "source": [
    "\n",
    "def saving_contacts(url, hubspot_api_key, data):\n",
    "    \"\"\"\n",
    "    Creates contacts in HubSpot using the provided URL, HubSpot API key, and data.\n",
    "\n",
    "    Args:\n",
    "    - url (str): The HubSpot API endpoint for batch contact creation.\n",
    "    - hubspot_api_key (str): The HubSpot API key for authentication.\n",
    "    - data (pd.DataFrame): The DataFrame containing contact data.\n",
    "\n",
    "    Returns:\n",
    "    - None\n",
    "    \"\"\"\n",
    "\n",
    "    # Fill missing values in the DataFrame with None\n",
    "    cleaned_df = data.where(pd.notna(data), None)\n",
    "\n",
    "    # Headers for the HubSpot API request\n",
    "    hubspot_headers = {\n",
    "        'accept': 'application/json',\n",
    "        'content-type': 'application/json',\n",
    "        'authorization': f'Bearer {hubspot_api_key}'\n",
    "    }\n",
    "\n",
    "    # Iterate over the rows of the cleaned DataFrame\n",
    "    for index, row in cleaned_df.iterrows():\n",
    "        # Prepare data for the API request\n",
    "        api_request_data = {\n",
    "            \"inputs\": [\n",
    "                {\n",
    "                    \"properties\": {\n",
    "                        \"email\": row[\"fix_email\"],\n",
    "                        \"phone\": row[\"fix_phone\"],\n",
    "                        \"lastname\": row[\"properties.lastname\"],\n",
    "                        \"firstname\": row[\"properties.firstname\"],\n",
    "                        \"city\": row[\"city\"],\n",
    "                        \"country\": row[\"country\"],\n",
    "                        \"temporary_id\": row[\"properties.hs_object_id\"],\n",
    "                        \"original_industry\": row[\"properties.industry\"],\n",
    "                        \"original_create_date\": row[\"properties.technical_test___create_date\"]\n",
    "                    },\n",
    "                }\n",
    "            ]\n",
    "        }\n",
    "\n",
    "        # Make the API request to HubSpot\n",
    "        requests.post(url, headers=hubspot_headers, json=api_request_data)\n"
   ]
  },
  {
   "cell_type": "markdown",
   "metadata": {},
   "source": [
    "The adjustment is made to the value \"United Kingdom\" to \"England\" in the final dataframe."
   ]
  },
  {
   "cell_type": "code",
   "execution_count": 14,
   "metadata": {},
   "outputs": [],
   "source": [
    "\n",
    "df_final['country'] = df_final['country'].replace('United Kingdom', 'England')"
   ]
  },
  {
   "cell_type": "code",
   "execution_count": 16,
   "metadata": {},
   "outputs": [],
   "source": [
    "hubspot_api_key = 'pat-na1-38b57d2a-5578-40d9-a800-5e8903e803dc'\n",
    "hubspot_url = 'https://api.hubapi.com/crm/v3/objects/contacts/batch/create'\n",
    "saving_contacts(hubspot_url, hubspot_api_key, df_final)"
   ]
  },
  {
   "cell_type": "markdown",
   "metadata": {},
   "source": [
    "## This is the link to the view with the contact information created in my hubspot account\n",
    "\n",
    "https://app.hubspot.com/contacts/24315979/objects/0-1/views/16912738/list"
   ]
  },
  {
   "cell_type": "markdown",
   "metadata": {},
   "source": [
    "## Graphics"
   ]
  },
  {
   "cell_type": "code",
   "execution_count": 78,
   "metadata": {},
   "outputs": [
    {
     "data": {
      "image/png": "[encoded data removed]",
      "text/plain": [
       "<Figure size 1000x600 with 1 Axes>"
      ]
     },
     "metadata": {},
     "output_type": "display_data"
    }
   ],
   "source": [
    "# Group the DataFrame by the 'city' column and count occurrences\n",
    "city_counts = df_final['city'].value_counts()\n",
    "\n",
    "# Create a bar chart with different colors for each bar and display the total on top of each bar\n",
    "plt.figure(figsize=(10, 6))\n",
    "ax = city_counts.plot(kind='bar', color=['skyblue', 'orange', 'lightgreen', 'lightcoral', 'lightsalmon', 'lightseagreen', 'lightpink', 'lightsteelblue', 'lightyellow'])\n",
    "plt.title('Contacts by City')\n",
    "plt.xlabel('City')\n",
    "plt.ylabel('Number of Contacts')\n",
    "plt.xticks(rotation=45, ha='right')  # Rotate x-axis labels for better readability\n",
    "\n",
    "# Display the total value on top of each bar\n",
    "for p in ax.patches:\n",
    "    ax.annotate(str(p.get_height()), (p.get_x() + p.get_width() / 2., p.get_height()),\n",
    "                ha='center', va='center', xytext=(0, 10), textcoords='offset points')\n",
    "\n",
    "plt.tight_layout()\n",
    "\n",
    "# Show the chart\n",
    "plt.show()\n"
   ]
  },
  {
   "cell_type": "code",
   "execution_count": 72,
   "metadata": {},
   "outputs": [
    {
     "name": "stderr",
     "output_type": "stream",
     "text": [
      "C:\\Users\\sergi\\AppData\\Local\\Temp\\ipykernel_6780\\1456174237.py:17: SettingWithCopyWarning: \n",
      "A value is trying to be set on a copy of a slice from a DataFrame.\n",
      "Try using .loc[row_indexer,col_indexer] = value instead\n",
      "\n",
      "See the caveats in the documentation: https://pandas.pydata.org/pandas-docs/stable/user_guide/indexing.html#returning-a-view-versus-a-copy\n",
      "  df_country['properties.technical_test___create_date'] = pd.to_datetime(df_country['properties.technical_test___create_date'])\n",
      "C:\\Users\\sergi\\AppData\\Local\\Temp\\ipykernel_6780\\1456174237.py:17: SettingWithCopyWarning: \n",
      "A value is trying to be set on a copy of a slice from a DataFrame.\n",
      "Try using .loc[row_indexer,col_indexer] = value instead\n",
      "\n",
      "See the caveats in the documentation: https://pandas.pydata.org/pandas-docs/stable/user_guide/indexing.html#returning-a-view-versus-a-copy\n",
      "  df_country['properties.technical_test___create_date'] = pd.to_datetime(df_country['properties.technical_test___create_date'])\n"
     ]
    },
    {
     "data": {
      "image/png": "[encoded data removed]",
      "text/plain": [
       "<Figure size 2000x600 with 1 Axes>"
      ]
     },
     "metadata": {},
     "output_type": "display_data"
    }
   ],
   "source": [
    "\n",
    "\n",
    "# Extract unique countries from the 'country' column in the DataFrame\n",
    "countries = list(df_final['country'].unique())\n",
    "\n",
    "# Process data for each country\n",
    "month = ['January', 'February', 'March', 'April', 'May', 'June', 'July', 'August', 'September', 'October', 'November', 'December']\n",
    "\n",
    "data_dict = {}  # Dictionary to store processed data for each country\n",
    "for country in countries:\n",
    "    # Filter DataFrame for the current country\n",
    "    df_country = df_final[df_final['country'] == country]\n",
    "    \n",
    "    # Convert the date column to datetime format\n",
    "    df_country['properties.technical_test___create_date'] = pd.to_datetime(df_country['properties.technical_test___create_date'])\n",
    "    \n",
    "    # Group by month and count the number of occurrences\n",
    "    date_groups = df_country.groupby(df_country['properties.technical_test___create_date'].dt.month).size()\n",
    "    \n",
    "    # Convert the grouped data to a list and store in the dictionary\n",
    "    month_values = date_groups.values.tolist()\n",
    "    data_dict[country] = month_values\n",
    "\n",
    "# Bar chart configuration\n",
    "bar_width = 0.35  # Width of the bars\n",
    "x = np.arange(len(month))  # Positions for the bars on the x-axis\n",
    "\n",
    "# Create the bar chart\n",
    "plt.figure(figsize=(20, 6))\n",
    "for country in countries:\n",
    "    plt.bar(x + bar_width * (countries.index(country) - 0.5), data_dict[country], width=bar_width, label=country)\n",
    "\n",
    "# Configure axes and labels\n",
    "plt.xlabel('Months')\n",
    "plt.ylabel('Number of Contacts')\n",
    "plt.title('Bar Chart for Multiple Countries')\n",
    "plt.xticks(x, month)\n",
    "plt.legend()\n",
    "\n",
    "# Display the total values on top of each bar\n",
    "for i, country in enumerate(countries):\n",
    "    for j, value in enumerate(data_dict[country]):\n",
    "        plt.text(x[j] + bar_width * (i - 0.5), value + 0.1, str(value), ha='center')\n",
    "\n",
    "# Display the chart\n",
    "plt.show()\n"
   ]
  },
  {
   "cell_type": "markdown",
   "metadata": {},
   "source": [
    "## Optional point\n",
    "\n",
    "\n",
    "To maintain the \"Street Address\" records without losing any values, my proposal is to create a new property in HubSpot with the format of rich text. In this property, we will store the secondary \"Street Address\" records for the same contact. This will be done in a similar manner to how it was done with the \"industry\" property—concatenating all records and subsequently separating the main address from the other addresses. These secondary addresses will be stored in our new HubSpot property as rich text, allowing for organization in a way that distinguishes them within the property.\n",
    "\n",
    "Example\n",
    "\n",
    "The main address is stored in the property \"address\".\n",
    "\n",
    "-Edwin   Rue, 3956\n",
    "\n",
    "\n",
    "The other addresses are stored in our new secondary address property\n",
    "\n",
    "-Besson  Avenue, 1005\n",
    "\n",
    "-Sheraton   Hill, 1513\n"
   ]
  },
  {
   "cell_type": "markdown",
   "metadata": {},
   "source": [
    "# Questions"
   ]
  },
  {
   "cell_type": "markdown",
   "metadata": {},
   "source": [
    "## What is your usual IDE?\n",
    "\n",
    "The IDE I use is Spider, but currently, I am exploring Visual Studio Code as a text editor."
   ]
  },
  {
   "cell_type": "markdown",
   "metadata": {},
   "source": [
    "## What are the advantages of this IDE over the others?\n",
    "From my experience, Spider is commonly used for data science and data analysis. It provides tools for exploring and visualizing data effectively. Additionally, it features a user-friendly graphical interface."
   ]
  },
  {
   "cell_type": "markdown",
   "metadata": {},
   "source": [
    "## Which of the items resulted in the most computational time for you? Add time in seconds.\n",
    "\n",
    "My saving_contacts function takes a total of 4560 seconds. Unlike other codes, it takes longer because it's creating one record at a time in HubSpot"
   ]
  },
  {
   "cell_type": "markdown",
   "metadata": {},
   "source": [
    "## If you have any public portfolio (e.g., IA, computer visión, data processing...), please share the link with us.\n",
    "\n",
    "Currently, I don't have a portfolio with projects, but I've worked on some in Google Colab and implemented various innovations with code at OnTheFuze. Additionally, I've undertaken tasks for clients."
   ]
  }
 ],
 "metadata": {
  "kernelspec": {
   "display_name": "Python 3",
   "language": "python",
   "name": "python3"
  },
  "language_info": {
   "codemirror_mode": {
    "name": "ipython",
    "version": 3
   },
   "file_extension": ".py",
   "mimetype": "text/x-python",
   "name": "python",
   "nbconvert_exporter": "python",
   "pygments_lexer": "ipython3",
   "version": "3.12.0"
  }
 },
 "nbformat": 4,
 "nbformat_minor": 2
}
